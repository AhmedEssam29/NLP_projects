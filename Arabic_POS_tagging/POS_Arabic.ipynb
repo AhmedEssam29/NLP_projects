{
 "cells": [
  {
   "cell_type": "markdown",
   "metadata": {},
   "source": [
    "**Instruction for POS Tagging Using RNNs with Arabic Dataset**\n",
    "\n",
    "**Dataset:**\n",
    "The dataset provided is named \"Arabic POS.conllu\". It contains labeled data for Arabic text with Part-of-Speech (POS) tags in CoNLL-U format.\n",
    "\n",
    "**Objective:**\n",
    "Your objective is to perform Part-of-Speech (POS) tagging on Arabic text using Recurrent Neural Networks (RNNs). Specifically, you will use the Universal POS (UPOS) tags for tagging. UPOS is a standardized set of POS tags that aims to cover all languages.\n",
    "\n",
    "**Evaluation metric:**\n",
    "Accuracy\n",
    "\n",
    "**Instructions:**\n",
    "1. **Data Preprocessing:**\n",
    "   - Load the provided dataset \"Arabic POS.conllu\". You can use pyconll library\n",
    "   - Preprocess the data as necessary, including tokenization\n",
    "\n",
    "2. **Model Building:**\n",
    "   - Design an RNN-based model architecture suitable for POS tagging. You may consider using recurrent layers such as (LSTM) or (GRU).\n",
    "   - Define the input and output layers of the model. The input layer should accept sequences of tokens, and the output layer should produce the predicted UPOS tags for each token.\n",
    "\n",
    "3. **Training:**\n",
    "\n",
    "4. **Evaluation:**"
   ]
  },
  {
   "cell_type": "markdown",
   "metadata": {
    "id": "v-6lrKz6orxT"
   },
   "source": [
    "### Import used libraries"
   ]
  },
  {
   "cell_type": "code",
   "execution_count": 3,
   "metadata": {
    "_kg_hide-output": true,
    "execution": {
     "iopub.execute_input": "2024-05-10T21:48:10.758701Z",
     "iopub.status.busy": "2024-05-10T21:48:10.758134Z",
     "iopub.status.idle": "2024-05-10T21:48:36.020444Z",
     "shell.execute_reply": "2024-05-10T21:48:36.019104Z",
     "shell.execute_reply.started": "2024-05-10T21:48:10.758670Z"
    }
   },
   "outputs": [
    {
     "name": "stdout",
     "output_type": "stream",
     "text": [
      "Collecting pyconll\n",
      "  Downloading pyconll-3.2.0-py3-none-any.whl.metadata (8.0 kB)\n",
      "Downloading pyconll-3.2.0-py3-none-any.whl (27 kB)\n",
      "Installing collected packages: pyconll\n",
      "Successfully installed pyconll-3.2.0\n",
      "Requirement already satisfied: nltk in /opt/conda/lib/python3.10/site-packages (3.2.4)\n",
      "Requirement already satisfied: six in /opt/conda/lib/python3.10/site-packages (from nltk) (1.16.0)\n"
     ]
    }
   ],
   "source": [
    "!pip install pyconll\n",
    "!pip install nltk"
   ]
  },
  {
   "cell_type": "code",
   "execution_count": 8,
   "metadata": {
    "execution": {
     "iopub.execute_input": "2024-05-10T21:49:02.208175Z",
     "iopub.status.busy": "2024-05-10T21:49:02.207821Z",
     "iopub.status.idle": "2024-05-10T21:49:02.214885Z",
     "shell.execute_reply": "2024-05-10T21:49:02.214026Z",
     "shell.execute_reply.started": "2024-05-10T21:49:02.208147Z"
    },
    "id": "eXUPo3g4orxV"
   },
   "outputs": [],
   "source": [
    "import pyconll\n",
    "import matplotlib.pyplot as plt\n",
    "import pandas as pd\n",
    "import numpy as np\n",
    "import re\n",
    "\n",
    "from tqdm import tqdm\n",
    "from nltk.tokenize import word_tokenize\n",
    "from keras.preprocessing.sequence import pad_sequences\n",
    "from sklearn.model_selection import train_test_split, cross_val_score\n",
    "\n",
    "from tensorflow.keras import Model, Input\n",
    "from tensorflow.keras.layers import LSTM, Embedding, Dense\n",
    "from tensorflow.keras.layers import TimeDistributed, SpatialDropout1D, Bidirectional\n",
    "from tensorflow.keras.callbacks import EarlyStopping\n",
    "\n",
    "from sklearn.metrics import make_scorer,accuracy_score\n",
    "from sklearn.metrics import classification_report, confusion_matrix"
   ]
  },
  {
   "cell_type": "markdown",
   "metadata": {
    "id": "fG8MkuvjorxX"
   },
   "source": [
    "### Load Dataset"
   ]
  },
  {
   "cell_type": "code",
   "execution_count": 85,
   "metadata": {
    "execution": {
     "iopub.execute_input": "2024-05-10T22:12:15.546102Z",
     "iopub.status.busy": "2024-05-10T22:12:15.545740Z",
     "iopub.status.idle": "2024-05-10T22:12:27.040406Z",
     "shell.execute_reply": "2024-05-10T22:12:27.039394Z",
     "shell.execute_reply.started": "2024-05-10T22:12:15.546071Z"
    }
   },
   "outputs": [],
   "source": [
    "file_path = '/kaggle/input/arabic-pos/Arabic POS.conllu'\n",
    "corpus = pyconll.load_from_file(file_path)"
   ]
  },
  {
   "cell_type": "code",
   "execution_count": 291,
   "metadata": {
    "execution": {
     "iopub.execute_input": "2024-05-11T00:10:19.119115Z",
     "iopub.status.busy": "2024-05-11T00:10:19.118246Z",
     "iopub.status.idle": "2024-05-11T00:10:19.503284Z",
     "shell.execute_reply": "2024-05-11T00:10:19.502207Z",
     "shell.execute_reply.started": "2024-05-11T00:10:19.119081Z"
    }
   },
   "outputs": [],
   "source": [
    "tokens = []\n",
    "pos = []\n",
    "sentences = []  \n",
    "sentence_id = []  \n",
    "current_sentence_id = 1 \n",
    "\n",
    "for sentence in corpus:\n",
    "    sentence_tokens = []  # Tokens for each sentence\n",
    "    for token in sentence:\n",
    "         \n",
    "        if token.upos is None or token.form is None:\n",
    "            continue\n",
    "        else:\n",
    "            \n",
    "            pos.append(token.upos)   \n",
    "            tokens.append(token.form) \n",
    "        sentence_id.append(f\"Sentence: {current_sentence_id}\")\n",
    "        sentence_tokens.append(token.form)  \n",
    "    current_sentence_id +=1 \n",
    "    sentences.append(' '.join(sentence_tokens))  # Join tokens to form sentence and append to sentences list"
   ]
  },
  {
   "cell_type": "markdown",
   "metadata": {},
   "source": [
    "#### Handling Words with Missing POS Tags\n",
    "\n",
    "- There were some words with POS tags equal to `None` . \n",
    "- To prevent these instances from affecting the model's performance, we made the decision to ignore them during data processing. \n",
    "- By excluding words with missing POS tags, we help to maintain the integrity of the dataset and ensure that the model's predictions are not biased by incomplete  information."
   ]
  },
  {
   "cell_type": "code",
   "execution_count": 12,
   "metadata": {
    "execution": {
     "iopub.execute_input": "2024-05-10T21:51:51.484928Z",
     "iopub.status.busy": "2024-05-10T21:51:51.484557Z",
     "iopub.status.idle": "2024-05-10T21:51:51.491391Z",
     "shell.execute_reply": "2024-05-10T21:51:51.490357Z",
     "shell.execute_reply.started": "2024-05-10T21:51:51.484900Z"
    }
   },
   "outputs": [
    {
     "data": {
      "text/plain": [
       "['برلين ترفض حصول شركة اميركية على رخصة تصنيع دبابة \" ليوبارد \" الالمانية',\n",
       " 'برلين 15 - 7 ( اف ب ) - افادت صحيفة الاحد الالمانية \" ويلت ام سونتاغ \" في عدد ها الصادر غدا ، ان المستشار غيرهارد شرودر يرفض حصول المجموعة الاميركية \" جنرال ديناميكس \" على رخصة ل تصنيع الدبابة الالمانية \" ليوبارد 2 \" عبر شراء المجموعة الحكومية الاسبانية ل الأسلحة \" سانتا بربارة \" .',\n",
       " 'و في نيسان / ابريل الماضي ، تخلت الدولة الاسبانية عن مجموعة \" سانتا بربارة \" التي تصنع دبابات ليوبارد الالمانية ، الى \" جنرال ديناميكس \" التي تنتج الدبابة الاميركية \" ام 1 ابرامس \" المعتبرة المنافسة الرئيسية ل دبابة ليوبارد في الاسواق .',\n",
       " 'و كانت خسائر المجموعة الاسبانية الرسمية تراكمت في السنوات العشر الاخيرة ل تبلغ 920 مليون يورو .',\n",
       " 'و أشارت صحيفة الاحد الى ان المستشار شرودر يعتبر ان حصول المجموعة الاميركية على رخصة تصنيع ليوبارد 2 يعرض ل الخطر المصالح التكنولوجية الاساسية ل ألمانيا و طلب من وزير الدفاع رودولف شاربينغ التوجه الى اسبانيا .']"
      ]
     },
     "execution_count": 12,
     "metadata": {},
     "output_type": "execute_result"
    }
   ],
   "source": [
    "sentences[:5]"
   ]
  },
  {
   "cell_type": "markdown",
   "metadata": {},
   "source": [
    "- We've to extract the tokens and the corresponding Universal POS tags "
   ]
  },
  {
   "cell_type": "code",
   "execution_count": 292,
   "metadata": {
    "execution": {
     "iopub.execute_input": "2024-05-11T00:10:21.184717Z",
     "iopub.status.busy": "2024-05-11T00:10:21.184113Z",
     "iopub.status.idle": "2024-05-11T00:10:21.544971Z",
     "shell.execute_reply": "2024-05-11T00:10:21.544080Z",
     "shell.execute_reply.started": "2024-05-11T00:10:21.184677Z"
    }
   },
   "outputs": [
    {
     "data": {
      "text/html": [
       "<div>\n",
       "<style scoped>\n",
       "    .dataframe tbody tr th:only-of-type {\n",
       "        vertical-align: middle;\n",
       "    }\n",
       "\n",
       "    .dataframe tbody tr th {\n",
       "        vertical-align: top;\n",
       "    }\n",
       "\n",
       "    .dataframe thead th {\n",
       "        text-align: right;\n",
       "    }\n",
       "</style>\n",
       "<table border=\"1\" class=\"dataframe\">\n",
       "  <thead>\n",
       "    <tr style=\"text-align: right;\">\n",
       "      <th></th>\n",
       "      <th>Sentence #</th>\n",
       "      <th>WORD</th>\n",
       "      <th>POS</th>\n",
       "    </tr>\n",
       "  </thead>\n",
       "  <tbody>\n",
       "    <tr>\n",
       "      <th>0</th>\n",
       "      <td>Sentence: 1</td>\n",
       "      <td>برلين</td>\n",
       "      <td>X</td>\n",
       "    </tr>\n",
       "    <tr>\n",
       "      <th>1</th>\n",
       "      <td>Sentence: 1</td>\n",
       "      <td>ترفض</td>\n",
       "      <td>VERB</td>\n",
       "    </tr>\n",
       "    <tr>\n",
       "      <th>2</th>\n",
       "      <td>Sentence: 1</td>\n",
       "      <td>حصول</td>\n",
       "      <td>NOUN</td>\n",
       "    </tr>\n",
       "    <tr>\n",
       "      <th>3</th>\n",
       "      <td>Sentence: 1</td>\n",
       "      <td>شركة</td>\n",
       "      <td>NOUN</td>\n",
       "    </tr>\n",
       "    <tr>\n",
       "      <th>4</th>\n",
       "      <td>Sentence: 1</td>\n",
       "      <td>اميركية</td>\n",
       "      <td>ADJ</td>\n",
       "    </tr>\n",
       "    <tr>\n",
       "      <th>5</th>\n",
       "      <td>Sentence: 1</td>\n",
       "      <td>على</td>\n",
       "      <td>ADP</td>\n",
       "    </tr>\n",
       "    <tr>\n",
       "      <th>6</th>\n",
       "      <td>Sentence: 1</td>\n",
       "      <td>رخصة</td>\n",
       "      <td>NOUN</td>\n",
       "    </tr>\n",
       "    <tr>\n",
       "      <th>7</th>\n",
       "      <td>Sentence: 1</td>\n",
       "      <td>تصنيع</td>\n",
       "      <td>NOUN</td>\n",
       "    </tr>\n",
       "    <tr>\n",
       "      <th>8</th>\n",
       "      <td>Sentence: 1</td>\n",
       "      <td>دبابة</td>\n",
       "      <td>NOUN</td>\n",
       "    </tr>\n",
       "    <tr>\n",
       "      <th>9</th>\n",
       "      <td>Sentence: 1</td>\n",
       "      <td>\"</td>\n",
       "      <td>PUNCT</td>\n",
       "    </tr>\n",
       "    <tr>\n",
       "      <th>10</th>\n",
       "      <td>Sentence: 1</td>\n",
       "      <td>ليوبارد</td>\n",
       "      <td>X</td>\n",
       "    </tr>\n",
       "    <tr>\n",
       "      <th>11</th>\n",
       "      <td>Sentence: 1</td>\n",
       "      <td>\"</td>\n",
       "      <td>PUNCT</td>\n",
       "    </tr>\n",
       "    <tr>\n",
       "      <th>12</th>\n",
       "      <td>Sentence: 1</td>\n",
       "      <td>الالمانية</td>\n",
       "      <td>ADJ</td>\n",
       "    </tr>\n",
       "    <tr>\n",
       "      <th>13</th>\n",
       "      <td>Sentence: 2</td>\n",
       "      <td>برلين</td>\n",
       "      <td>X</td>\n",
       "    </tr>\n",
       "    <tr>\n",
       "      <th>14</th>\n",
       "      <td>Sentence: 2</td>\n",
       "      <td>15</td>\n",
       "      <td>NUM</td>\n",
       "    </tr>\n",
       "  </tbody>\n",
       "</table>\n",
       "</div>"
      ],
      "text/plain": [
       "     Sentence #       WORD    POS\n",
       "0   Sentence: 1      برلين      X\n",
       "1   Sentence: 1       ترفض   VERB\n",
       "2   Sentence: 1       حصول   NOUN\n",
       "3   Sentence: 1       شركة   NOUN\n",
       "4   Sentence: 1    اميركية    ADJ\n",
       "5   Sentence: 1        على    ADP\n",
       "6   Sentence: 1       رخصة   NOUN\n",
       "7   Sentence: 1      تصنيع   NOUN\n",
       "8   Sentence: 1      دبابة   NOUN\n",
       "9   Sentence: 1          \"  PUNCT\n",
       "10  Sentence: 1    ليوبارد      X\n",
       "11  Sentence: 1          \"  PUNCT\n",
       "12  Sentence: 1  الالمانية    ADJ\n",
       "13  Sentence: 2      برلين      X\n",
       "14  Sentence: 2         15    NUM"
      ]
     },
     "execution_count": 292,
     "metadata": {},
     "output_type": "execute_result"
    }
   ],
   "source": [
    "df = pd.DataFrame({\"Sentence #\": sentence_id,\n",
    "                   \"WORD\": tokens,\n",
    "                   \"POS\": pos})\n",
    "df.ffill()\n",
    "df.head(15)"
   ]
  },
  {
   "cell_type": "code",
   "execution_count": 293,
   "metadata": {
    "execution": {
     "iopub.execute_input": "2024-05-11T00:10:22.602661Z",
     "iopub.status.busy": "2024-05-11T00:10:22.601928Z",
     "iopub.status.idle": "2024-05-11T00:10:22.690623Z",
     "shell.execute_reply": "2024-05-11T00:10:22.689510Z",
     "shell.execute_reply.started": "2024-05-11T00:10:22.602630Z"
    }
   },
   "outputs": [
    {
     "name": "stdout",
     "output_type": "stream",
     "text": [
      "Unique words in corpus: 21915\n",
      "Unique tags in corpus: 17\n"
     ]
    }
   ],
   "source": [
    "print(\"Unique words in corpus:\", df['WORD'].nunique())\n",
    "print(\"Unique tags in corpus:\", df['POS'].nunique())"
   ]
  },
  {
   "cell_type": "markdown",
   "metadata": {},
   "source": [
    "- We have various POS such as \"PUNCT\" which represents punctuation marks, and \"NOUN\", \"VERB\", \"ADJ\", and \"ADP\" represent nouns, verbs, adjectives, and adpositions.\n",
    "- Here is a reference table outlining the meanings of different Parts of Speech (POS) tags exist in the data:"
   ]
  },
  {
   "cell_type": "markdown",
   "metadata": {},
   "source": [
    "| POS   | Meaning                                                   |\n",
    "|-------|-----------------------------------------------------------|\n",
    "| NOUN  | Person, place, thing, or idea                             |\n",
    "| ADP   | Preposition or postposition                                |\n",
    "| ADJ   | Modifies or describes a noun or pronoun                   |\n",
    "| PUNCT | Punctuation marks                                         |\n",
    "| VERB  | Expresses an action, occurrence, or state of being        |\n",
    "| CCONJ | Coordinating conjunction                                  |\n",
    "| X     | Placeholder or symbol                                     |\n",
    "| PRON  | Substitutes for a noun or noun phrase                     |\n",
    "| NUM   | Number                                                    |\n",
    "| DET   | Introduces a noun and expresses reference                 |\n",
    "| SCONJ | Introduces subordinate clauses                            |\n",
    "| PART  | Grammatically functional word not fitting major categories|\n",
    "| AUX   | Auxiliary verb                                            |\n",
    "| ADV   | Modifies a verb, adjective, adverb, clause, or sentence  |\n",
    "| SYM   | Mathematical or logical symbol                            |\n",
    "| PROPN | Proper noun                                               |\n",
    "| INTJ  | Interjection expressing emotion or sentiment              |\n"
   ]
  },
  {
   "cell_type": "code",
   "execution_count": 294,
   "metadata": {
    "execution": {
     "iopub.execute_input": "2024-05-11T00:10:23.347598Z",
     "iopub.status.busy": "2024-05-11T00:10:23.346729Z",
     "iopub.status.idle": "2024-05-11T00:10:23.353358Z",
     "shell.execute_reply": "2024-05-11T00:10:23.352386Z",
     "shell.execute_reply.started": "2024-05-11T00:10:23.347564Z"
    }
   },
   "outputs": [
    {
     "data": {
      "text/plain": [
       "(223881, 3)"
      ]
     },
     "execution_count": 294,
     "metadata": {},
     "output_type": "execute_result"
    }
   ],
   "source": [
    "df.shape"
   ]
  },
  {
   "cell_type": "code",
   "execution_count": 295,
   "metadata": {
    "execution": {
     "iopub.execute_input": "2024-05-11T00:10:23.564811Z",
     "iopub.status.busy": "2024-05-11T00:10:23.564162Z",
     "iopub.status.idle": "2024-05-11T00:10:23.619098Z",
     "shell.execute_reply": "2024-05-11T00:10:23.618199Z",
     "shell.execute_reply.started": "2024-05-11T00:10:23.564780Z"
    }
   },
   "outputs": [
    {
     "data": {
      "text/plain": [
       "POS\n",
       "NOUN     74546\n",
       "ADP      33617\n",
       "ADJ      23498\n",
       "PUNCT    17511\n",
       "VERB     16789\n",
       "CCONJ    15803\n",
       "X        13747\n",
       "PRON      8533\n",
       "NUM       6010\n",
       "DET       4648\n",
       "SCONJ     4368\n",
       "PART      1709\n",
       "AUX       1699\n",
       "ADV        880\n",
       "SYM        329\n",
       "PROPN      187\n",
       "INTJ         7\n",
       "Name: count, dtype: int64"
      ]
     },
     "execution_count": 295,
     "metadata": {},
     "output_type": "execute_result"
    }
   ],
   "source": [
    "df['POS'].value_counts()"
   ]
  },
  {
   "cell_type": "markdown",
   "metadata": {},
   "source": [
    "- NOUN is the most frequent POS tag (74546) , followed by ADP (33617) and ADJ (23498)."
   ]
  },
  {
   "cell_type": "markdown",
   "metadata": {
    "id": "XyJkqK9gorxe"
   },
   "source": [
    "### Cleaning and Preprocessing"
   ]
  },
  {
   "cell_type": "code",
   "execution_count": 296,
   "metadata": {
    "execution": {
     "iopub.execute_input": "2024-05-11T00:10:24.145882Z",
     "iopub.status.busy": "2024-05-11T00:10:24.145168Z",
     "iopub.status.idle": "2024-05-11T00:10:24.152659Z",
     "shell.execute_reply": "2024-05-11T00:10:24.151622Z",
     "shell.execute_reply.started": "2024-05-11T00:10:24.145849Z"
    },
    "id": "GVjzzLhworxe"
   },
   "outputs": [],
   "source": [
    "def clean_str(text):\n",
    "\n",
    "    # Remove longation\n",
    "    text = re.sub(r'(.)\\1+', r\"\\1\\1\", text) \n",
    "    \n",
    "    # Text normalization\n",
    "    text = re.sub(\"[إأآااً]\", \"ا\", text)\n",
    "    text = re.sub(\"ى\", \"ي\", text)\n",
    "    text = re.sub(\"ؤ\", \"ء\", text)\n",
    "    text = re.sub(\"ئ\", \"ء\", text)\n",
    "    text = re.sub(\"ة\", \"ه\", text)\n",
    "    text = re.sub(\"گ\", \"ك\", text)\n",
    "    text = re.sub(\"ڤ\", \"ف\", text)\n",
    "    text = re.sub(\"چ\", \"ج\", text)\n",
    "    text = re.sub(\"ژ\", \"ز\", text)\n",
    "    text = re.sub(\"پ\", \"ب\", text)\n",
    "    \n",
    "    return text"
   ]
  },
  {
   "cell_type": "code",
   "execution_count": 297,
   "metadata": {
    "execution": {
     "iopub.execute_input": "2024-05-11T00:10:24.341640Z",
     "iopub.status.busy": "2024-05-11T00:10:24.341045Z",
     "iopub.status.idle": "2024-05-11T00:10:27.948365Z",
     "shell.execute_reply": "2024-05-11T00:10:27.947446Z",
     "shell.execute_reply.started": "2024-05-11T00:10:24.341610Z"
    }
   },
   "outputs": [
    {
     "data": {
      "text/plain": [
       "['برلين', 'ترفض', 'حصول', 'شركه', 'اميركيه']"
      ]
     },
     "execution_count": 297,
     "metadata": {},
     "output_type": "execute_result"
    }
   ],
   "source": [
    "# Clean each token in corpus to obtain unique words\n",
    "cleaned_tokens = list(map(clean_str,tokens))\n",
    "\n",
    "cleaned_tokens[:5]"
   ]
  },
  {
   "cell_type": "code",
   "execution_count": 298,
   "metadata": {
    "execution": {
     "iopub.execute_input": "2024-05-11T00:10:27.950763Z",
     "iopub.status.busy": "2024-05-11T00:10:27.950364Z",
     "iopub.status.idle": "2024-05-11T00:10:27.982984Z",
     "shell.execute_reply": "2024-05-11T00:10:27.981942Z",
     "shell.execute_reply.started": "2024-05-11T00:10:27.950715Z"
    }
   },
   "outputs": [
    {
     "name": "stdout",
     "output_type": "stream",
     "text": [
      "Number of unique tokens: 20613\n"
     ]
    }
   ],
   "source": [
    "unique_tokens = set(cleaned_tokens)\n",
    "print(\"Number of unique tokens:\",len(unique_tokens))"
   ]
  },
  {
   "cell_type": "code",
   "execution_count": 299,
   "metadata": {
    "execution": {
     "iopub.execute_input": "2024-05-11T00:10:27.984448Z",
     "iopub.status.busy": "2024-05-11T00:10:27.984146Z",
     "iopub.status.idle": "2024-05-11T00:10:28.015010Z",
     "shell.execute_reply": "2024-05-11T00:10:28.014060Z",
     "shell.execute_reply.started": "2024-05-11T00:10:27.984423Z"
    }
   },
   "outputs": [],
   "source": [
    "df['CLEAN_WORDS'] = cleaned_tokens"
   ]
  },
  {
   "cell_type": "code",
   "execution_count": 300,
   "metadata": {
    "execution": {
     "iopub.execute_input": "2024-05-11T00:10:28.017449Z",
     "iopub.status.busy": "2024-05-11T00:10:28.017161Z",
     "iopub.status.idle": "2024-05-11T00:10:28.028609Z",
     "shell.execute_reply": "2024-05-11T00:10:28.027681Z",
     "shell.execute_reply.started": "2024-05-11T00:10:28.017424Z"
    }
   },
   "outputs": [
    {
     "data": {
      "text/html": [
       "<div>\n",
       "<style scoped>\n",
       "    .dataframe tbody tr th:only-of-type {\n",
       "        vertical-align: middle;\n",
       "    }\n",
       "\n",
       "    .dataframe tbody tr th {\n",
       "        vertical-align: top;\n",
       "    }\n",
       "\n",
       "    .dataframe thead th {\n",
       "        text-align: right;\n",
       "    }\n",
       "</style>\n",
       "<table border=\"1\" class=\"dataframe\">\n",
       "  <thead>\n",
       "    <tr style=\"text-align: right;\">\n",
       "      <th></th>\n",
       "      <th>Sentence #</th>\n",
       "      <th>WORD</th>\n",
       "      <th>POS</th>\n",
       "      <th>CLEAN_WORDS</th>\n",
       "    </tr>\n",
       "  </thead>\n",
       "  <tbody>\n",
       "    <tr>\n",
       "      <th>0</th>\n",
       "      <td>Sentence: 1</td>\n",
       "      <td>برلين</td>\n",
       "      <td>X</td>\n",
       "      <td>برلين</td>\n",
       "    </tr>\n",
       "    <tr>\n",
       "      <th>1</th>\n",
       "      <td>Sentence: 1</td>\n",
       "      <td>ترفض</td>\n",
       "      <td>VERB</td>\n",
       "      <td>ترفض</td>\n",
       "    </tr>\n",
       "    <tr>\n",
       "      <th>2</th>\n",
       "      <td>Sentence: 1</td>\n",
       "      <td>حصول</td>\n",
       "      <td>NOUN</td>\n",
       "      <td>حصول</td>\n",
       "    </tr>\n",
       "    <tr>\n",
       "      <th>3</th>\n",
       "      <td>Sentence: 1</td>\n",
       "      <td>شركة</td>\n",
       "      <td>NOUN</td>\n",
       "      <td>شركه</td>\n",
       "    </tr>\n",
       "    <tr>\n",
       "      <th>4</th>\n",
       "      <td>Sentence: 1</td>\n",
       "      <td>اميركية</td>\n",
       "      <td>ADJ</td>\n",
       "      <td>اميركيه</td>\n",
       "    </tr>\n",
       "  </tbody>\n",
       "</table>\n",
       "</div>"
      ],
      "text/plain": [
       "    Sentence #     WORD   POS CLEAN_WORDS\n",
       "0  Sentence: 1    برلين     X       برلين\n",
       "1  Sentence: 1     ترفض  VERB        ترفض\n",
       "2  Sentence: 1     حصول  NOUN        حصول\n",
       "3  Sentence: 1     شركة  NOUN        شركه\n",
       "4  Sentence: 1  اميركية   ADJ     اميركيه"
      ]
     },
     "execution_count": 300,
     "metadata": {},
     "output_type": "execute_result"
    }
   ],
   "source": [
    "df.head()"
   ]
  },
  {
   "cell_type": "code",
   "execution_count": 301,
   "metadata": {
    "execution": {
     "iopub.execute_input": "2024-05-11T00:10:28.030110Z",
     "iopub.status.busy": "2024-05-11T00:10:28.029812Z",
     "iopub.status.idle": "2024-05-11T00:10:28.038823Z",
     "shell.execute_reply": "2024-05-11T00:10:28.037920Z",
     "shell.execute_reply.started": "2024-05-11T00:10:28.030086Z"
    }
   },
   "outputs": [
    {
     "data": {
      "text/plain": [
       "(223881, 4)"
      ]
     },
     "execution_count": 301,
     "metadata": {},
     "output_type": "execute_result"
    }
   ],
   "source": [
    "# Before removing duplicates\n",
    "df.shape"
   ]
  },
  {
   "cell_type": "code",
   "execution_count": 302,
   "metadata": {
    "execution": {
     "iopub.execute_input": "2024-05-11T00:10:28.040273Z",
     "iopub.status.busy": "2024-05-11T00:10:28.039970Z",
     "iopub.status.idle": "2024-05-11T00:10:28.143148Z",
     "shell.execute_reply": "2024-05-11T00:10:28.142264Z",
     "shell.execute_reply.started": "2024-05-11T00:10:28.040249Z"
    }
   },
   "outputs": [
    {
     "data": {
      "text/plain": [
       "201020"
      ]
     },
     "execution_count": 302,
     "metadata": {},
     "output_type": "execute_result"
    }
   ],
   "source": [
    "df.duplicated(subset=['CLEAN_WORDS','POS']).sum()"
   ]
  },
  {
   "cell_type": "code",
   "execution_count": 303,
   "metadata": {
    "execution": {
     "iopub.execute_input": "2024-05-11T00:10:28.144873Z",
     "iopub.status.busy": "2024-05-11T00:10:28.144582Z",
     "iopub.status.idle": "2024-05-11T00:10:28.148794Z",
     "shell.execute_reply": "2024-05-11T00:10:28.147750Z",
     "shell.execute_reply.started": "2024-05-11T00:10:28.144848Z"
    }
   },
   "outputs": [],
   "source": [
    "# df.drop_duplicates(subset=['CLEAN_WORDS','POS'],inplace = True)"
   ]
  },
  {
   "cell_type": "code",
   "execution_count": 304,
   "metadata": {
    "execution": {
     "iopub.execute_input": "2024-05-11T00:10:28.149950Z",
     "iopub.status.busy": "2024-05-11T00:10:28.149710Z",
     "iopub.status.idle": "2024-05-11T00:10:28.160724Z",
     "shell.execute_reply": "2024-05-11T00:10:28.159836Z",
     "shell.execute_reply.started": "2024-05-11T00:10:28.149928Z"
    }
   },
   "outputs": [
    {
     "data": {
      "text/plain": [
       "(223881, 4)"
      ]
     },
     "execution_count": 304,
     "metadata": {},
     "output_type": "execute_result"
    }
   ],
   "source": [
    "# After removing duplicates\n",
    "df.shape"
   ]
  },
  {
   "cell_type": "code",
   "execution_count": 305,
   "metadata": {
    "execution": {
     "iopub.execute_input": "2024-05-11T00:10:28.162248Z",
     "iopub.status.busy": "2024-05-11T00:10:28.161954Z",
     "iopub.status.idle": "2024-05-11T00:10:28.219405Z",
     "shell.execute_reply": "2024-05-11T00:10:28.218440Z",
     "shell.execute_reply.started": "2024-05-11T00:10:28.162222Z"
    }
   },
   "outputs": [
    {
     "data": {
      "text/plain": [
       "POS\n",
       "NOUN     74546\n",
       "ADP      33617\n",
       "ADJ      23498\n",
       "PUNCT    17511\n",
       "VERB     16789\n",
       "CCONJ    15803\n",
       "X        13747\n",
       "PRON      8533\n",
       "NUM       6010\n",
       "DET       4648\n",
       "SCONJ     4368\n",
       "PART      1709\n",
       "AUX       1699\n",
       "ADV        880\n",
       "SYM        329\n",
       "PROPN      187\n",
       "INTJ         7\n",
       "Name: count, dtype: int64"
      ]
     },
     "execution_count": 305,
     "metadata": {},
     "output_type": "execute_result"
    }
   ],
   "source": [
    "df['POS'].value_counts()"
   ]
  },
  {
   "cell_type": "code",
   "execution_count": 306,
   "metadata": {
    "execution": {
     "iopub.execute_input": "2024-05-11T00:10:28.509876Z",
     "iopub.status.busy": "2024-05-11T00:10:28.509546Z",
     "iopub.status.idle": "2024-05-11T00:10:28.569912Z",
     "shell.execute_reply": "2024-05-11T00:10:28.568952Z",
     "shell.execute_reply.started": "2024-05-11T00:10:28.509849Z"
    }
   },
   "outputs": [],
   "source": [
    "df.loc[df['POS']=='SCONJ','POS'] = 'ADP'"
   ]
  },
  {
   "cell_type": "markdown",
   "metadata": {},
   "source": [
    "- We can comibne SCONJ with the ADP (Preposition or Postposition) class to prevent causing errors."
   ]
  },
  {
   "cell_type": "code",
   "execution_count": 307,
   "metadata": {
    "execution": {
     "iopub.execute_input": "2024-05-11T00:10:29.506797Z",
     "iopub.status.busy": "2024-05-11T00:10:29.506105Z",
     "iopub.status.idle": "2024-05-11T00:10:29.572509Z",
     "shell.execute_reply": "2024-05-11T00:10:29.571532Z",
     "shell.execute_reply.started": "2024-05-11T00:10:29.506766Z"
    }
   },
   "outputs": [
    {
     "data": {
      "text/html": [
       "<div>\n",
       "<style scoped>\n",
       "    .dataframe tbody tr th:only-of-type {\n",
       "        vertical-align: middle;\n",
       "    }\n",
       "\n",
       "    .dataframe tbody tr th {\n",
       "        vertical-align: top;\n",
       "    }\n",
       "\n",
       "    .dataframe thead th {\n",
       "        text-align: right;\n",
       "    }\n",
       "</style>\n",
       "<table border=\"1\" class=\"dataframe\">\n",
       "  <thead>\n",
       "    <tr style=\"text-align: right;\">\n",
       "      <th></th>\n",
       "      <th>Sentence #</th>\n",
       "      <th>WORD</th>\n",
       "      <th>POS</th>\n",
       "      <th>CLEAN_WORDS</th>\n",
       "    </tr>\n",
       "  </thead>\n",
       "  <tbody>\n",
       "    <tr>\n",
       "      <th>1042</th>\n",
       "      <td>Sentence: 42</td>\n",
       "      <td>%</td>\n",
       "      <td>SYM</td>\n",
       "      <td>%</td>\n",
       "    </tr>\n",
       "    <tr>\n",
       "      <th>1374</th>\n",
       "      <td>Sentence: 53</td>\n",
       "      <td>%</td>\n",
       "      <td>SYM</td>\n",
       "      <td>%</td>\n",
       "    </tr>\n",
       "    <tr>\n",
       "      <th>1432</th>\n",
       "      <td>Sentence: 55</td>\n",
       "      <td>%</td>\n",
       "      <td>SYM</td>\n",
       "      <td>%</td>\n",
       "    </tr>\n",
       "    <tr>\n",
       "      <th>1437</th>\n",
       "      <td>Sentence: 55</td>\n",
       "      <td>%</td>\n",
       "      <td>SYM</td>\n",
       "      <td>%</td>\n",
       "    </tr>\n",
       "    <tr>\n",
       "      <th>1472</th>\n",
       "      <td>Sentence: 56</td>\n",
       "      <td>%</td>\n",
       "      <td>SYM</td>\n",
       "      <td>%</td>\n",
       "    </tr>\n",
       "    <tr>\n",
       "      <th>...</th>\n",
       "      <td>...</td>\n",
       "      <td>...</td>\n",
       "      <td>...</td>\n",
       "      <td>...</td>\n",
       "    </tr>\n",
       "    <tr>\n",
       "      <th>188809</th>\n",
       "      <td>Sentence: 4894</td>\n",
       "      <td>/</td>\n",
       "      <td>SYM</td>\n",
       "      <td>/</td>\n",
       "    </tr>\n",
       "    <tr>\n",
       "      <th>190354</th>\n",
       "      <td>Sentence: 4941</td>\n",
       "      <td>/</td>\n",
       "      <td>SYM</td>\n",
       "      <td>/</td>\n",
       "    </tr>\n",
       "    <tr>\n",
       "      <th>191015</th>\n",
       "      <td>Sentence: 4962</td>\n",
       "      <td>/</td>\n",
       "      <td>SYM</td>\n",
       "      <td>/</td>\n",
       "    </tr>\n",
       "    <tr>\n",
       "      <th>191019</th>\n",
       "      <td>Sentence: 4962</td>\n",
       "      <td>/</td>\n",
       "      <td>SYM</td>\n",
       "      <td>/</td>\n",
       "    </tr>\n",
       "    <tr>\n",
       "      <th>196211</th>\n",
       "      <td>Sentence: 5144</td>\n",
       "      <td>/</td>\n",
       "      <td>SYM</td>\n",
       "      <td>/</td>\n",
       "    </tr>\n",
       "  </tbody>\n",
       "</table>\n",
       "<p>329 rows × 4 columns</p>\n",
       "</div>"
      ],
      "text/plain": [
       "            Sentence # WORD  POS CLEAN_WORDS\n",
       "1042      Sentence: 42    %  SYM           %\n",
       "1374      Sentence: 53    %  SYM           %\n",
       "1432      Sentence: 55    %  SYM           %\n",
       "1437      Sentence: 55    %  SYM           %\n",
       "1472      Sentence: 56    %  SYM           %\n",
       "...                ...  ...  ...         ...\n",
       "188809  Sentence: 4894    /  SYM           /\n",
       "190354  Sentence: 4941    /  SYM           /\n",
       "191015  Sentence: 4962    /  SYM           /\n",
       "191019  Sentence: 4962    /  SYM           /\n",
       "196211  Sentence: 5144    /  SYM           /\n",
       "\n",
       "[329 rows x 4 columns]"
      ]
     },
     "execution_count": 307,
     "metadata": {},
     "output_type": "execute_result"
    }
   ],
   "source": [
    "df.loc[df['POS']=='SYM']"
   ]
  },
  {
   "cell_type": "code",
   "execution_count": 308,
   "metadata": {
    "execution": {
     "iopub.execute_input": "2024-05-11T00:10:29.876170Z",
     "iopub.status.busy": "2024-05-11T00:10:29.875329Z",
     "iopub.status.idle": "2024-05-11T00:10:29.886040Z",
     "shell.execute_reply": "2024-05-11T00:10:29.885010Z",
     "shell.execute_reply.started": "2024-05-11T00:10:29.876138Z"
    }
   },
   "outputs": [
    {
     "data": {
      "text/html": [
       "<div>\n",
       "<style scoped>\n",
       "    .dataframe tbody tr th:only-of-type {\n",
       "        vertical-align: middle;\n",
       "    }\n",
       "\n",
       "    .dataframe tbody tr th {\n",
       "        vertical-align: top;\n",
       "    }\n",
       "\n",
       "    .dataframe thead th {\n",
       "        text-align: right;\n",
       "    }\n",
       "</style>\n",
       "<table border=\"1\" class=\"dataframe\">\n",
       "  <thead>\n",
       "    <tr style=\"text-align: right;\">\n",
       "      <th></th>\n",
       "      <th>Sentence #</th>\n",
       "      <th>WORD</th>\n",
       "      <th>POS</th>\n",
       "      <th>CLEAN_WORDS</th>\n",
       "    </tr>\n",
       "  </thead>\n",
       "  <tbody>\n",
       "    <tr>\n",
       "      <th>223876</th>\n",
       "      <td>Sentence: 6075</td>\n",
       "      <td>بنية</td>\n",
       "      <td>NOUN</td>\n",
       "      <td>بنيه</td>\n",
       "    </tr>\n",
       "    <tr>\n",
       "      <th>223877</th>\n",
       "      <td>Sentence: 6075</td>\n",
       "      <td>ه</td>\n",
       "      <td>PRON</td>\n",
       "      <td>ه</td>\n",
       "    </tr>\n",
       "    <tr>\n",
       "      <th>223878</th>\n",
       "      <td>Sentence: 6075</td>\n",
       "      <td>التحتية</td>\n",
       "      <td>ADJ</td>\n",
       "      <td>التحتيه</td>\n",
       "    </tr>\n",
       "    <tr>\n",
       "      <th>223879</th>\n",
       "      <td>Sentence: 6075</td>\n",
       "      <td>\"</td>\n",
       "      <td>PUNCT</td>\n",
       "      <td>\"</td>\n",
       "    </tr>\n",
       "    <tr>\n",
       "      <th>223880</th>\n",
       "      <td>Sentence: 6075</td>\n",
       "      <td>.</td>\n",
       "      <td>PUNCT</td>\n",
       "      <td>.</td>\n",
       "    </tr>\n",
       "  </tbody>\n",
       "</table>\n",
       "</div>"
      ],
      "text/plain": [
       "            Sentence #     WORD    POS CLEAN_WORDS\n",
       "223876  Sentence: 6075     بنية   NOUN        بنيه\n",
       "223877  Sentence: 6075        ه   PRON           ه\n",
       "223878  Sentence: 6075  التحتية    ADJ     التحتيه\n",
       "223879  Sentence: 6075        \"  PUNCT           \"\n",
       "223880  Sentence: 6075        .  PUNCT           ."
      ]
     },
     "execution_count": 308,
     "metadata": {},
     "output_type": "execute_result"
    }
   ],
   "source": [
    "df.tail()"
   ]
  },
  {
   "cell_type": "markdown",
   "metadata": {},
   "source": [
    "- We can add more symbols to balance the data"
   ]
  },
  {
   "cell_type": "code",
   "execution_count": 309,
   "metadata": {
    "execution": {
     "iopub.execute_input": "2024-05-11T00:10:30.667255Z",
     "iopub.status.busy": "2024-05-11T00:10:30.666916Z",
     "iopub.status.idle": "2024-05-11T00:10:30.688210Z",
     "shell.execute_reply": "2024-05-11T00:10:30.687369Z",
     "shell.execute_reply.started": "2024-05-11T00:10:30.667229Z"
    }
   },
   "outputs": [],
   "source": [
    "additional_symbols = pd.DataFrame({\n",
    "    'Sentence #': ['Sentence: 6074']*5,  # Add sentence numbers for new instances\n",
    "    'WORD': ['-', '>', '*', '=', '^'],           # Add additional symbol instances\n",
    "    'POS': ['SYM']*5,  # Label them as symbols\n",
    "    'CLEAN_WORDS': ['-', '>', '*', '=', '^']  \n",
    "})\n",
    "\n",
    "# Concatenate the additional symbols DataFrame with the existing DataFrame\n",
    "df = pd.concat([df, additional_symbols],axis=0, ignore_index=True)"
   ]
  },
  {
   "cell_type": "code",
   "execution_count": 310,
   "metadata": {
    "execution": {
     "iopub.execute_input": "2024-05-11T00:10:31.006695Z",
     "iopub.status.busy": "2024-05-11T00:10:31.005878Z",
     "iopub.status.idle": "2024-05-11T00:10:31.064654Z",
     "shell.execute_reply": "2024-05-11T00:10:31.063561Z",
     "shell.execute_reply.started": "2024-05-11T00:10:31.006664Z"
    }
   },
   "outputs": [
    {
     "data": {
      "text/plain": [
       "POS\n",
       "NOUN     74546\n",
       "ADP      37985\n",
       "ADJ      23498\n",
       "PUNCT    17511\n",
       "VERB     16789\n",
       "CCONJ    15803\n",
       "X        13747\n",
       "PRON      8533\n",
       "NUM       6010\n",
       "DET       4648\n",
       "PART      1709\n",
       "AUX       1699\n",
       "ADV        880\n",
       "SYM        334\n",
       "PROPN      187\n",
       "INTJ         7\n",
       "Name: count, dtype: int64"
      ]
     },
     "execution_count": 310,
     "metadata": {},
     "output_type": "execute_result"
    }
   ],
   "source": [
    "df['POS'].value_counts()"
   ]
  },
  {
   "cell_type": "markdown",
   "metadata": {},
   "source": [
    "### Retrieve Sentences and Corresponsing Pos"
   ]
  },
  {
   "cell_type": "code",
   "execution_count": 311,
   "metadata": {
    "execution": {
     "iopub.execute_input": "2024-05-11T00:10:31.748019Z",
     "iopub.status.busy": "2024-05-11T00:10:31.747667Z",
     "iopub.status.idle": "2024-05-11T00:10:31.755110Z",
     "shell.execute_reply": "2024-05-11T00:10:31.754147Z",
     "shell.execute_reply.started": "2024-05-11T00:10:31.747991Z"
    }
   },
   "outputs": [],
   "source": [
    "class SentenceGetter(object):\n",
    "    def __init__(self, data):\n",
    "        self.n_sent = 1\n",
    "        self.data = data\n",
    "        self.empty = False\n",
    "        agg_func = lambda s: [(w, p) for w, p in zip(s[\"CLEAN_WORDS\"].values.tolist(),\n",
    "                                                     s[\"POS\"].values.tolist())]\n",
    "        \n",
    "        self.grouped = self.data.groupby(\"Sentence #\").apply(agg_func)\n",
    "        self.sentences = [s for s in self.grouped]\n",
    "    \n",
    "    def get_next(self):\n",
    "        try:\n",
    "            s = self.grouped[\"Sentence: {}\".format(self.n_sent)]\n",
    "            self.n_sent += 1\n",
    "            return s\n",
    "        except:\n",
    "            return None"
   ]
  },
  {
   "cell_type": "code",
   "execution_count": 312,
   "metadata": {
    "execution": {
     "iopub.execute_input": "2024-05-11T00:10:32.145197Z",
     "iopub.status.busy": "2024-05-11T00:10:32.144861Z",
     "iopub.status.idle": "2024-05-11T00:10:32.850763Z",
     "shell.execute_reply": "2024-05-11T00:10:32.849658Z",
     "shell.execute_reply.started": "2024-05-11T00:10:32.145170Z"
    }
   },
   "outputs": [
    {
     "name": "stderr",
     "output_type": "stream",
     "text": [
      "/tmp/ipykernel_34/593768635.py:9: DeprecationWarning: DataFrameGroupBy.apply operated on the grouping columns. This behavior is deprecated, and in a future version of pandas the grouping columns will be excluded from the operation. Either pass `include_groups=False` to exclude the groupings or explicitly select the grouping columns after groupby to silence this warning.\n",
      "  self.grouped = self.data.groupby(\"Sentence #\").apply(agg_func)\n"
     ]
    }
   ],
   "source": [
    "getter = SentenceGetter(df)\n",
    "sentences = getter.sentences"
   ]
  },
  {
   "cell_type": "code",
   "execution_count": 313,
   "metadata": {
    "execution": {
     "iopub.execute_input": "2024-05-11T00:10:32.852556Z",
     "iopub.status.busy": "2024-05-11T00:10:32.852263Z",
     "iopub.status.idle": "2024-05-11T00:10:32.859396Z",
     "shell.execute_reply": "2024-05-11T00:10:32.858391Z",
     "shell.execute_reply.started": "2024-05-11T00:10:32.852529Z"
    }
   },
   "outputs": [
    {
     "data": {
      "text/plain": [
       "[('برلين', 'X'),\n",
       " ('ترفض', 'VERB'),\n",
       " ('حصول', 'NOUN'),\n",
       " ('شركه', 'NOUN'),\n",
       " ('اميركيه', 'ADJ'),\n",
       " ('علي', 'ADP'),\n",
       " ('رخصه', 'NOUN'),\n",
       " ('تصنيع', 'NOUN'),\n",
       " ('دبابه', 'NOUN'),\n",
       " ('\"', 'PUNCT'),\n",
       " ('ليوبارد', 'X'),\n",
       " ('\"', 'PUNCT'),\n",
       " ('الالمانيه', 'ADJ')]"
      ]
     },
     "execution_count": 313,
     "metadata": {},
     "output_type": "execute_result"
    }
   ],
   "source": [
    "sentences[0]"
   ]
  },
  {
   "cell_type": "code",
   "execution_count": 314,
   "metadata": {
    "execution": {
     "iopub.execute_input": "2024-05-11T00:10:34.399577Z",
     "iopub.status.busy": "2024-05-11T00:10:34.399204Z",
     "iopub.status.idle": "2024-05-11T00:10:34.435985Z",
     "shell.execute_reply": "2024-05-11T00:10:34.434928Z",
     "shell.execute_reply.started": "2024-05-11T00:10:34.399546Z"
    }
   },
   "outputs": [
    {
     "data": {
      "text/plain": [
       "20617"
      ]
     },
     "execution_count": 314,
     "metadata": {},
     "output_type": "execute_result"
    }
   ],
   "source": [
    "words = list(set(df[\"CLEAN_WORDS\"].values))\n",
    "words.append(\"ENDPAD\")\n",
    "num_words = len(words)\n",
    "num_words"
   ]
  },
  {
   "cell_type": "code",
   "execution_count": 315,
   "metadata": {
    "execution": {
     "iopub.execute_input": "2024-05-11T00:10:34.664832Z",
     "iopub.status.busy": "2024-05-11T00:10:34.664465Z",
     "iopub.status.idle": "2024-05-11T00:10:34.704185Z",
     "shell.execute_reply": "2024-05-11T00:10:34.703028Z",
     "shell.execute_reply.started": "2024-05-11T00:10:34.664803Z"
    }
   },
   "outputs": [],
   "source": [
    "pos = list(set(df[\"POS\"].values))\n",
    "num_pos = len(pos)"
   ]
  },
  {
   "cell_type": "markdown",
   "metadata": {},
   "source": [
    "### Define Mappings between Sentences and Pos"
   ]
  },
  {
   "cell_type": "markdown",
   "metadata": {},
   "source": [
    "* Create tokens and POS encoders"
   ]
  },
  {
   "cell_type": "code",
   "execution_count": 316,
   "metadata": {
    "execution": {
     "iopub.execute_input": "2024-05-11T00:10:35.804957Z",
     "iopub.status.busy": "2024-05-11T00:10:35.804600Z",
     "iopub.status.idle": "2024-05-11T00:10:35.817561Z",
     "shell.execute_reply": "2024-05-11T00:10:35.816544Z",
     "shell.execute_reply.started": "2024-05-11T00:10:35.804927Z"
    }
   },
   "outputs": [],
   "source": [
    "# starting from 1 , to set 0 default index for out of vocab\n",
    "word2idx = {w: i + 1 for i, w in enumerate(words)}\n",
    "pos2idx = {t: i for i, t in enumerate(pos)}"
   ]
  },
  {
   "cell_type": "code",
   "execution_count": 317,
   "metadata": {
    "execution": {
     "iopub.execute_input": "2024-05-11T00:10:36.208032Z",
     "iopub.status.busy": "2024-05-11T00:10:36.207199Z",
     "iopub.status.idle": "2024-05-11T00:10:36.457368Z",
     "shell.execute_reply": "2024-05-11T00:10:36.456439Z",
     "shell.execute_reply.started": "2024-05-11T00:10:36.207997Z"
    }
   },
   "outputs": [
    {
     "data": {
      "image/png": "[encoded data removed]",
      "text/plain": [
       "<Figure size 640x480 with 1 Axes>"
      ]
     },
     "metadata": {},
     "output_type": "display_data"
    }
   ],
   "source": [
    "plt.hist([len(s) for s in sentences], bins=50, color = 'orange')\n",
    "plt.show()"
   ]
  },
  {
   "cell_type": "markdown",
   "metadata": {},
   "source": [
    "- Setting max_len to be 25."
   ]
  },
  {
   "cell_type": "code",
   "execution_count": 318,
   "metadata": {
    "execution": {
     "iopub.execute_input": "2024-05-11T00:10:43.977245Z",
     "iopub.status.busy": "2024-05-11T00:10:43.976882Z",
     "iopub.status.idle": "2024-05-11T00:10:44.209280Z",
     "shell.execute_reply": "2024-05-11T00:10:44.208259Z",
     "shell.execute_reply.started": "2024-05-11T00:10:43.977216Z"
    }
   },
   "outputs": [],
   "source": [
    "max_len = 150\n",
    "\n",
    "X = [[word2idx[w[0]] for w in s] for s in sentences]\n",
    "X = pad_sequences(maxlen=max_len, sequences=X, padding=\"post\", value = num_words-1) # Index of ENDPAD\n",
    "\n",
    "y = [[pos2idx[w[1]] for w in s] for s in sentences]\n",
    "y = pad_sequences(maxlen=max_len, sequences=y, padding=\"post\", value = pos2idx['X'] )"
   ]
  },
  {
   "cell_type": "code",
   "execution_count": 319,
   "metadata": {
    "execution": {
     "iopub.execute_input": "2024-05-11T00:10:44.421335Z",
     "iopub.status.busy": "2024-05-11T00:10:44.420982Z",
     "iopub.status.idle": "2024-05-11T00:10:44.429630Z",
     "shell.execute_reply": "2024-05-11T00:10:44.428462Z",
     "shell.execute_reply.started": "2024-05-11T00:10:44.421306Z"
    }
   },
   "outputs": [],
   "source": [
    "x_train, x_test, y_train, y_test = train_test_split(X, y, test_size=0.2, random_state=42)"
   ]
  },
  {
   "cell_type": "markdown",
   "metadata": {
    "id": "R9BhRQbYorxf"
   },
   "source": [
    "### Modelling"
   ]
  },
  {
   "cell_type": "markdown",
   "metadata": {},
   "source": [
    "- Assigning `return_sequences=True` is a must, to enable the subsequent layer \"TimeDistributed\" to receive and process information from each time step, where each input token needs to be associated with an output label."
   ]
  },
  {
   "cell_type": "code",
   "execution_count": 320,
   "metadata": {
    "execution": {
     "iopub.execute_input": "2024-05-11T00:10:45.838340Z",
     "iopub.status.busy": "2024-05-11T00:10:45.838006Z",
     "iopub.status.idle": "2024-05-11T00:10:45.912244Z",
     "shell.execute_reply": "2024-05-11T00:10:45.911346Z",
     "shell.execute_reply.started": "2024-05-11T00:10:45.838314Z"
    }
   },
   "outputs": [
    {
     "name": "stderr",
     "output_type": "stream",
     "text": [
      "/opt/conda/lib/python3.10/site-packages/keras/src/layers/core/embedding.py:86: UserWarning: Argument `input_length` is deprecated. Just remove it.\n",
      "  warnings.warn(\n"
     ]
    },
    {
     "data": {
      "text/html": [
       "<pre style=\"white-space:pre;overflow-x:auto;line-height:normal;font-family:Menlo,'DejaVu Sans Mono',consolas,'Courier New',monospace\"><span style=\"font-weight: bold\">Model: \"functional_17\"</span>\n",
       "</pre>\n"
      ],
      "text/plain": [
       "\u001b[1mModel: \"functional_17\"\u001b[0m\n"
      ]
     },
     "metadata": {},
     "output_type": "display_data"
    },
    {
     "data": {
      "text/html": [
       "<pre style=\"white-space:pre;overflow-x:auto;line-height:normal;font-family:Menlo,'DejaVu Sans Mono',consolas,'Courier New',monospace\">┏━━━━━━━━━━━━━━━━━━━━━━━━━━━━━━━━━┳━━━━━━━━━━━━━━━━━━━━━━━━┳━━━━━━━━━━━━━━━┓\n",
       "┃<span style=\"font-weight: bold\"> Layer (type)                    </span>┃<span style=\"font-weight: bold\"> Output Shape           </span>┃<span style=\"font-weight: bold\">       Param # </span>┃\n",
       "┡━━━━━━━━━━━━━━━━━━━━━━━━━━━━━━━━━╇━━━━━━━━━━━━━━━━━━━━━━━━╇━━━━━━━━━━━━━━━┩\n",
       "│ input_layer_8 (<span style=\"color: #0087ff; text-decoration-color: #0087ff\">InputLayer</span>)      │ (<span style=\"color: #00d7ff; text-decoration-color: #00d7ff\">None</span>, <span style=\"color: #00af00; text-decoration-color: #00af00\">150</span>)            │             <span style=\"color: #00af00; text-decoration-color: #00af00\">0</span> │\n",
       "├─────────────────────────────────┼────────────────────────┼───────────────┤\n",
       "│ embedding_8 (<span style=\"color: #0087ff; text-decoration-color: #0087ff\">Embedding</span>)         │ (<span style=\"color: #00d7ff; text-decoration-color: #00d7ff\">None</span>, <span style=\"color: #00af00; text-decoration-color: #00af00\">150</span>, <span style=\"color: #00af00; text-decoration-color: #00af00\">50</span>)        │     <span style=\"color: #00af00; text-decoration-color: #00af00\">1,030,850</span> │\n",
       "├─────────────────────────────────┼────────────────────────┼───────────────┤\n",
       "│ bidirectional_8 (<span style=\"color: #0087ff; text-decoration-color: #0087ff\">Bidirectional</span>) │ (<span style=\"color: #00d7ff; text-decoration-color: #00d7ff\">None</span>, <span style=\"color: #00af00; text-decoration-color: #00af00\">150</span>, <span style=\"color: #00af00; text-decoration-color: #00af00\">100</span>)       │        <span style=\"color: #00af00; text-decoration-color: #00af00\">40,400</span> │\n",
       "├─────────────────────────────────┼────────────────────────┼───────────────┤\n",
       "│ time_distributed_8              │ (<span style=\"color: #00d7ff; text-decoration-color: #00d7ff\">None</span>, <span style=\"color: #00af00; text-decoration-color: #00af00\">150</span>, <span style=\"color: #00af00; text-decoration-color: #00af00\">16</span>)        │         <span style=\"color: #00af00; text-decoration-color: #00af00\">1,616</span> │\n",
       "│ (<span style=\"color: #0087ff; text-decoration-color: #0087ff\">TimeDistributed</span>)               │                        │               │\n",
       "└─────────────────────────────────┴────────────────────────┴───────────────┘\n",
       "</pre>\n"
      ],
      "text/plain": [
       "┏━━━━━━━━━━━━━━━━━━━━━━━━━━━━━━━━━┳━━━━━━━━━━━━━━━━━━━━━━━━┳━━━━━━━━━━━━━━━┓\n",
       "┃\u001b[1m \u001b[0m\u001b[1mLayer (type)                   \u001b[0m\u001b[1m \u001b[0m┃\u001b[1m \u001b[0m\u001b[1mOutput Shape          \u001b[0m\u001b[1m \u001b[0m┃\u001b[1m \u001b[0m\u001b[1m      Param #\u001b[0m\u001b[1m \u001b[0m┃\n",
       "┡━━━━━━━━━━━━━━━━━━━━━━━━━━━━━━━━━╇━━━━━━━━━━━━━━━━━━━━━━━━╇━━━━━━━━━━━━━━━┩\n",
       "│ input_layer_8 (\u001b[38;5;33mInputLayer\u001b[0m)      │ (\u001b[38;5;45mNone\u001b[0m, \u001b[38;5;34m150\u001b[0m)            │             \u001b[38;5;34m0\u001b[0m │\n",
       "├─────────────────────────────────┼────────────────────────┼───────────────┤\n",
       "│ embedding_8 (\u001b[38;5;33mEmbedding\u001b[0m)         │ (\u001b[38;5;45mNone\u001b[0m, \u001b[38;5;34m150\u001b[0m, \u001b[38;5;34m50\u001b[0m)        │     \u001b[38;5;34m1,030,850\u001b[0m │\n",
       "├─────────────────────────────────┼────────────────────────┼───────────────┤\n",
       "│ bidirectional_8 (\u001b[38;5;33mBidirectional\u001b[0m) │ (\u001b[38;5;45mNone\u001b[0m, \u001b[38;5;34m150\u001b[0m, \u001b[38;5;34m100\u001b[0m)       │        \u001b[38;5;34m40,400\u001b[0m │\n",
       "├─────────────────────────────────┼────────────────────────┼───────────────┤\n",
       "│ time_distributed_8              │ (\u001b[38;5;45mNone\u001b[0m, \u001b[38;5;34m150\u001b[0m, \u001b[38;5;34m16\u001b[0m)        │         \u001b[38;5;34m1,616\u001b[0m │\n",
       "│ (\u001b[38;5;33mTimeDistributed\u001b[0m)               │                        │               │\n",
       "└─────────────────────────────────┴────────────────────────┴───────────────┘\n"
      ]
     },
     "metadata": {},
     "output_type": "display_data"
    },
    {
     "data": {
      "text/html": [
       "<pre style=\"white-space:pre;overflow-x:auto;line-height:normal;font-family:Menlo,'DejaVu Sans Mono',consolas,'Courier New',monospace\"><span style=\"font-weight: bold\"> Total params: </span><span style=\"color: #00af00; text-decoration-color: #00af00\">1,072,866</span> (4.09 MB)\n",
       "</pre>\n"
      ],
      "text/plain": [
       "\u001b[1m Total params: \u001b[0m\u001b[38;5;34m1,072,866\u001b[0m (4.09 MB)\n"
      ]
     },
     "metadata": {},
     "output_type": "display_data"
    },
    {
     "data": {
      "text/html": [
       "<pre style=\"white-space:pre;overflow-x:auto;line-height:normal;font-family:Menlo,'DejaVu Sans Mono',consolas,'Courier New',monospace\"><span style=\"font-weight: bold\"> Trainable params: </span><span style=\"color: #00af00; text-decoration-color: #00af00\">1,072,866</span> (4.09 MB)\n",
       "</pre>\n"
      ],
      "text/plain": [
       "\u001b[1m Trainable params: \u001b[0m\u001b[38;5;34m1,072,866\u001b[0m (4.09 MB)\n"
      ]
     },
     "metadata": {},
     "output_type": "display_data"
    },
    {
     "data": {
      "text/html": [
       "<pre style=\"white-space:pre;overflow-x:auto;line-height:normal;font-family:Menlo,'DejaVu Sans Mono',consolas,'Courier New',monospace\"><span style=\"font-weight: bold\"> Non-trainable params: </span><span style=\"color: #00af00; text-decoration-color: #00af00\">0</span> (0.00 B)\n",
       "</pre>\n"
      ],
      "text/plain": [
       "\u001b[1m Non-trainable params: \u001b[0m\u001b[38;5;34m0\u001b[0m (0.00 B)\n"
      ]
     },
     "metadata": {},
     "output_type": "display_data"
    }
   ],
   "source": [
    "input_word = Input(shape=(max_len,))\n",
    "\n",
    "# Embedding layer to convert input word to vectors\n",
    "model = Embedding(input_dim=num_words, output_dim=50, input_length=max_len)(input_word)\n",
    "\n",
    "# Bidirectional LSTM layer to capture context from both directions , \n",
    "model = Bidirectional(LSTM(50, return_sequences=True, recurrent_dropout=0.25, dropout=0.25))(model)\n",
    "\n",
    "# TimeDistributed layer to apply Dense layer to each time step independently\n",
    "out = TimeDistributed(Dense(num_pos, activation=\"softmax\"))(model)\n",
    "\n",
    "model = Model(input_word, out)\n",
    "\n",
    "model.summary()"
   ]
  },
  {
   "cell_type": "code",
   "execution_count": 321,
   "metadata": {
    "execution": {
     "iopub.execute_input": "2024-05-11T00:10:46.389964Z",
     "iopub.status.busy": "2024-05-11T00:10:46.389181Z",
     "iopub.status.idle": "2024-05-11T00:10:46.399542Z",
     "shell.execute_reply": "2024-05-11T00:10:46.398730Z",
     "shell.execute_reply.started": "2024-05-11T00:10:46.389929Z"
    }
   },
   "outputs": [],
   "source": [
    "# Using \"sparse_categorical_crossentropy\" instead of one hot encode labels\n",
    "model.compile(optimizer=\"adam\",\n",
    "              loss=\"sparse_categorical_crossentropy\",\n",
    "              metrics=[\"accuracy\"])"
   ]
  },
  {
   "cell_type": "code",
   "execution_count": 322,
   "metadata": {
    "execution": {
     "iopub.execute_input": "2024-05-11T00:10:46.835366Z",
     "iopub.status.busy": "2024-05-11T00:10:46.835021Z",
     "iopub.status.idle": "2024-05-11T00:21:51.847080Z",
     "shell.execute_reply": "2024-05-11T00:21:51.846229Z",
     "shell.execute_reply.started": "2024-05-11T00:10:46.835336Z"
    }
   },
   "outputs": [
    {
     "name": "stdout",
     "output_type": "stream",
     "text": [
      "Epoch 1/50\n",
      "\u001b[1m152/152\u001b[0m \u001b[32m━━━━━━━━━━━━━━━━━━━━\u001b[0m\u001b[37m\u001b[0m \u001b[1m65s\u001b[0m 366ms/step - accuracy: 0.7768 - loss: 0.9143 - val_accuracy: 0.8946 - val_loss: 0.3648\n",
      "Epoch 2/50\n",
      "\u001b[1m152/152\u001b[0m \u001b[32m━━━━━━━━━━━━━━━━━━━━\u001b[0m\u001b[37m\u001b[0m \u001b[1m54s\u001b[0m 357ms/step - accuracy: 0.9099 - loss: 0.2985 - val_accuracy: 0.9521 - val_loss: 0.1603\n",
      "Epoch 3/50\n",
      "\u001b[1m152/152\u001b[0m \u001b[32m━━━━━━━━━━━━━━━━━━━━\u001b[0m\u001b[37m\u001b[0m \u001b[1m82s\u001b[0m 357ms/step - accuracy: 0.9627 - loss: 0.1344 - val_accuracy: 0.9795 - val_loss: 0.0783\n",
      "Epoch 4/50\n",
      "\u001b[1m152/152\u001b[0m \u001b[32m━━━━━━━━━━━━━━━━━━━━\u001b[0m\u001b[37m\u001b[0m \u001b[1m54s\u001b[0m 355ms/step - accuracy: 0.9855 - loss: 0.0645 - val_accuracy: 0.9844 - val_loss: 0.0568\n",
      "Epoch 5/50\n",
      "\u001b[1m152/152\u001b[0m \u001b[32m━━━━━━━━━━━━━━━━━━━━\u001b[0m\u001b[37m\u001b[0m \u001b[1m54s\u001b[0m 354ms/step - accuracy: 0.9910 - loss: 0.0405 - val_accuracy: 0.9852 - val_loss: 0.0494\n",
      "Epoch 6/50\n",
      "\u001b[1m152/152\u001b[0m \u001b[32m━━━━━━━━━━━━━━━━━━━━\u001b[0m\u001b[37m\u001b[0m \u001b[1m54s\u001b[0m 356ms/step - accuracy: 0.9924 - loss: 0.0312 - val_accuracy: 0.9860 - val_loss: 0.0465\n",
      "Epoch 7/50\n",
      "\u001b[1m152/152\u001b[0m \u001b[32m━━━━━━━━━━━━━━━━━━━━\u001b[0m\u001b[37m\u001b[0m \u001b[1m54s\u001b[0m 357ms/step - accuracy: 0.9932 - loss: 0.0256 - val_accuracy: 0.9862 - val_loss: 0.0450\n",
      "Epoch 8/50\n",
      "\u001b[1m152/152\u001b[0m \u001b[32m━━━━━━━━━━━━━━━━━━━━\u001b[0m\u001b[37m\u001b[0m \u001b[1m82s\u001b[0m 360ms/step - accuracy: 0.9934 - loss: 0.0231 - val_accuracy: 0.9863 - val_loss: 0.0441\n",
      "Epoch 9/50\n",
      "\u001b[1m152/152\u001b[0m \u001b[32m━━━━━━━━━━━━━━━━━━━━\u001b[0m\u001b[37m\u001b[0m \u001b[1m55s\u001b[0m 364ms/step - accuracy: 0.9939 - loss: 0.0207 - val_accuracy: 0.9865 - val_loss: 0.0441\n",
      "Epoch 10/50\n",
      "\u001b[1m152/152\u001b[0m \u001b[32m━━━━━━━━━━━━━━━━━━━━\u001b[0m\u001b[37m\u001b[0m \u001b[1m55s\u001b[0m 361ms/step - accuracy: 0.9943 - loss: 0.0187 - val_accuracy: 0.9867 - val_loss: 0.0441\n",
      "Epoch 11/50\n",
      "\u001b[1m152/152\u001b[0m \u001b[32m━━━━━━━━━━━━━━━━━━━━\u001b[0m\u001b[37m\u001b[0m \u001b[1m55s\u001b[0m 360ms/step - accuracy: 0.9947 - loss: 0.0174 - val_accuracy: 0.9867 - val_loss: 0.0441\n"
     ]
    }
   ],
   "source": [
    "early_stopping = EarlyStopping(monitor='val_loss', patience=2, mode='min', restore_best_weights=True)\n",
    "\n",
    "history = model.fit(\n",
    "    x=x_train,\n",
    "    y=y_train,\n",
    "    validation_data=(x_test,y_test),\n",
    "    batch_size=32, \n",
    "    epochs=50,\n",
    "    callbacks=[early_stopping])"
   ]
  },
  {
   "cell_type": "markdown",
   "metadata": {
    "id": "85JlkIQXorxg"
   },
   "source": [
    "#### Evaluation"
   ]
  },
  {
   "cell_type": "markdown",
   "metadata": {},
   "source": [
    "**Evaluation metric:**\n",
    "Accuracy"
   ]
  },
  {
   "cell_type": "code",
   "execution_count": 324,
   "metadata": {
    "execution": {
     "iopub.execute_input": "2024-05-11T00:56:22.718006Z",
     "iopub.status.busy": "2024-05-11T00:56:22.717607Z",
     "iopub.status.idle": "2024-05-11T00:56:25.445289Z",
     "shell.execute_reply": "2024-05-11T00:56:25.444249Z",
     "shell.execute_reply.started": "2024-05-11T00:56:22.717977Z"
    }
   },
   "outputs": [
    {
     "name": "stdout",
     "output_type": "stream",
     "text": [
      "Test Loss: 0.044051289558410645\n",
      "Test Accuracy: 0.9864582419395447\n"
     ]
    }
   ],
   "source": [
    "# Loss and precision on validation data \n",
    "evaluation_metrics = model.evaluate(x_test,\n",
    "                                    y_test, verbose=0)\n",
    "loss = evaluation_metrics[0]\n",
    "acc = evaluation_metrics[1]\n",
    "\n",
    "print('Test Loss: {}'.format(loss))\n",
    "print('Test Accuracy: {}'.format(acc))"
   ]
  },
  {
   "cell_type": "code",
   "execution_count": 325,
   "metadata": {
    "execution": {
     "iopub.execute_input": "2024-05-11T00:56:26.991878Z",
     "iopub.status.busy": "2024-05-11T00:56:26.991039Z",
     "iopub.status.idle": "2024-05-11T00:56:26.997448Z",
     "shell.execute_reply": "2024-05-11T00:56:26.996556Z",
     "shell.execute_reply.started": "2024-05-11T00:56:26.991843Z"
    }
   },
   "outputs": [
    {
     "data": {
      "text/plain": [
       "(1215, 150)"
      ]
     },
     "execution_count": 325,
     "metadata": {},
     "output_type": "execute_result"
    }
   ],
   "source": [
    "x_test.shape"
   ]
  },
  {
   "cell_type": "code",
   "execution_count": 326,
   "metadata": {
    "execution": {
     "iopub.execute_input": "2024-05-11T00:56:27.472267Z",
     "iopub.status.busy": "2024-05-11T00:56:27.471625Z",
     "iopub.status.idle": "2024-05-11T00:56:33.469949Z",
     "shell.execute_reply": "2024-05-11T00:56:33.469034Z",
     "shell.execute_reply.started": "2024-05-11T00:56:27.472231Z"
    }
   },
   "outputs": [],
   "source": [
    "# Generate predictions using the trained model on the test dataset.\n",
    "predictions= model.predict(x_test, verbose=0)"
   ]
  },
  {
   "cell_type": "code",
   "execution_count": 327,
   "metadata": {
    "execution": {
     "iopub.execute_input": "2024-05-11T00:56:33.472140Z",
     "iopub.status.busy": "2024-05-11T00:56:33.471842Z",
     "iopub.status.idle": "2024-05-11T00:56:33.480572Z",
     "shell.execute_reply": "2024-05-11T00:56:33.479681Z",
     "shell.execute_reply.started": "2024-05-11T00:56:33.472115Z"
    }
   },
   "outputs": [],
   "source": [
    "# Select the class with the highest probability as the predicted pos\n",
    "predicted_labels = np.argmax(predictions, axis=-1)"
   ]
  },
  {
   "cell_type": "code",
   "execution_count": 328,
   "metadata": {
    "execution": {
     "iopub.execute_input": "2024-05-11T00:56:33.482091Z",
     "iopub.status.busy": "2024-05-11T00:56:33.481836Z",
     "iopub.status.idle": "2024-05-11T00:56:33.488206Z",
     "shell.execute_reply": "2024-05-11T00:56:33.487307Z",
     "shell.execute_reply.started": "2024-05-11T00:56:33.482067Z"
    }
   },
   "outputs": [
    {
     "name": "stdout",
     "output_type": "stream",
     "text": [
      "Test shape: (1215, 150)\n",
      "Predictions shape: (1215, 150, 16)\n"
     ]
    }
   ],
   "source": [
    "print('Test shape:',x_test.shape)\n",
    "print('Predictions shape:', predictions.shape)"
   ]
  },
  {
   "cell_type": "markdown",
   "metadata": {},
   "source": [
    "In the case of POS tagging, the predictions tensor has shape (no_samples, sequence_length, num_classes).\n",
    "* Where:\n",
    "    * no_samples is the number of samples in the batch.\n",
    "    * sequence_length is the length of each sequence.\n",
    "    * num_classes is the number of classes (the number of POS tags -16- ).\n",
    "* By setting axis=-1, we compute the argmax along the last axis, which corresponds to the num_classes axis. This means that for each element in the batch and for each position in the sequence, np.argmax will return the index of the class with the highest probability."
   ]
  },
  {
   "cell_type": "code",
   "execution_count": 329,
   "metadata": {
    "execution": {
     "iopub.execute_input": "2024-05-11T00:56:33.490911Z",
     "iopub.status.busy": "2024-05-11T00:56:33.490614Z",
     "iopub.status.idle": "2024-05-11T00:56:33.500581Z",
     "shell.execute_reply": "2024-05-11T00:56:33.499788Z",
     "shell.execute_reply.started": "2024-05-11T00:56:33.490887Z"
    }
   },
   "outputs": [],
   "source": [
    "# Ignore zeros to prevent biased evaluation\n",
    "mask = y_test.flatten() != pos2idx['X']\n",
    "y_test_flat = y_test.flatten()[mask]\n",
    "predicted_labels_flat = predicted_labels.flatten()[mask]"
   ]
  },
  {
   "cell_type": "code",
   "execution_count": 330,
   "metadata": {
    "execution": {
     "iopub.execute_input": "2024-05-11T00:56:33.501765Z",
     "iopub.status.busy": "2024-05-11T00:56:33.501455Z",
     "iopub.status.idle": "2024-05-11T00:56:33.562599Z",
     "shell.execute_reply": "2024-05-11T00:56:33.561638Z",
     "shell.execute_reply.started": "2024-05-11T00:56:33.501740Z"
    }
   },
   "outputs": [
    {
     "name": "stdout",
     "output_type": "stream",
     "text": [
      "              precision    recall  f1-score   support\n",
      "\n",
      "           0       0.98      0.80      0.88       343\n",
      "           1       1.00      0.99      0.99      3205\n",
      "           2       0.96      0.90      0.93      3307\n",
      "           3       0.98      1.00      0.99      7408\n",
      "           4       0.86      0.80      0.83       333\n",
      "           5       1.00      1.00      1.00      3586\n",
      "           6       1.00      0.90      0.94      1212\n",
      "           7       0.95      0.91      0.93      4784\n",
      "           8       0.98      0.96      0.97       894\n",
      "           9       0.92      0.32      0.48        37\n",
      "          10       0.99      0.87      0.93       182\n",
      "          11       1.00      0.94      0.97        50\n",
      "          12       1.00      0.00      0.00         1\n",
      "          13       1.00      0.99      0.99      1686\n",
      "          14       0.96      0.96      0.96     14893\n",
      "          15       0.00      1.00      0.00         0\n",
      "\n",
      "    accuracy                           0.96     41921\n",
      "   macro avg       0.91      0.83      0.80     41921\n",
      "weighted avg       0.97      0.96      0.96     41921\n",
      "\n"
     ]
    }
   ],
   "source": [
    "print(classification_report(y_test_flat ,predicted_labels_flat, zero_division=1))"
   ]
  },
  {
   "cell_type": "code",
   "execution_count": 331,
   "metadata": {
    "execution": {
     "iopub.execute_input": "2024-05-11T00:56:33.564242Z",
     "iopub.status.busy": "2024-05-11T00:56:33.563916Z",
     "iopub.status.idle": "2024-05-11T00:56:33.569436Z",
     "shell.execute_reply": "2024-05-11T00:56:33.568441Z",
     "shell.execute_reply.started": "2024-05-11T00:56:33.564209Z"
    }
   },
   "outputs": [],
   "source": [
    "metrics = pd.DataFrame(history.history)"
   ]
  },
  {
   "cell_type": "code",
   "execution_count": 332,
   "metadata": {
    "execution": {
     "iopub.execute_input": "2024-05-11T00:56:33.570873Z",
     "iopub.status.busy": "2024-05-11T00:56:33.570562Z",
     "iopub.status.idle": "2024-05-11T00:56:34.004509Z",
     "shell.execute_reply": "2024-05-11T00:56:34.003564Z",
     "shell.execute_reply.started": "2024-05-11T00:56:33.570848Z"
    },
    "id": "37C70N6Aorxh"
   },
   "outputs": [
    {
     "data": {
      "image/png": "[encoded data removed]",
      "text/plain": [
       "<Figure size 1200x400 with 2 Axes>"
      ]
     },
     "metadata": {},
     "output_type": "display_data"
    }
   ],
   "source": [
    "plt.figure(figsize=(12, 4))\n",
    "\n",
    "plt.subplot(1,2,1)\n",
    "plt.plot(metrics['accuracy'], label='Training Accuracy',color='k')\n",
    "plt.plot(metrics['val_accuracy'], label='Validation Accuracy',color='m')\n",
    "plt.xlabel('Epochs')\n",
    "plt.ylabel('Accuracy')\n",
    "plt.title(\"Accuracy vs. Epochs\")\n",
    "plt.legend()\n",
    "\n",
    "plt.subplot(1,2,2)\n",
    "plt.plot(metrics['loss'], label='Training Loss',color='k')\n",
    "plt.plot(metrics['val_loss'], label='Validation Loss',color='m')\n",
    "plt.xlabel('Epochs')\n",
    "plt.ylabel('Loss')\n",
    "plt.title(\"Loss vs. Epochs\")\n",
    "plt.legend()\n",
    "plt.suptitle('Model Peformance', y = 1.05)\n",
    "plt.show()"
   ]
  },
  {
   "cell_type": "markdown",
   "metadata": {},
   "source": [
    "### Conclusion and final results\n"
   ]
  },
  {
   "cell_type": "code",
   "execution_count": 333,
   "metadata": {
    "execution": {
     "iopub.execute_input": "2024-05-11T00:56:34.006346Z",
     "iopub.status.busy": "2024-05-11T00:56:34.005748Z",
     "iopub.status.idle": "2024-05-11T00:56:34.015083Z",
     "shell.execute_reply": "2024-05-11T00:56:34.014005Z",
     "shell.execute_reply.started": "2024-05-11T00:56:34.006310Z"
    }
   },
   "outputs": [],
   "source": [
    "def predict(text):\n",
    "    max_len = 150\n",
    "    str_len = len(text.split())\n",
    "    # 0 is the default index for unknown pos\n",
    "    text = clean_str(text)\n",
    "    text = [[word2idx[w] for w in text.split() if w != \"ENDPAD\"]]\n",
    "    text = pad_sequences(maxlen=max_len, sequences=text, padding=\"post\",value = num_words-1)\n",
    "    p = model.predict(np.array([text[0]]))\n",
    "    p = np.argmax(p, axis=-1)\n",
    "    print(\"{:15}\\t {}\\n\".format(\"Word\", \"Pred\"))\n",
    "    print(\"-\" *30)\n",
    "    for i in range(str_len):\n",
    "        print(\"{:15}\\t{}\".format(words[text[0][i]-1], pos[p[0][i]]))"
   ]
  },
  {
   "cell_type": "code",
   "execution_count": 334,
   "metadata": {
    "execution": {
     "iopub.execute_input": "2024-05-11T00:56:34.016414Z",
     "iopub.status.busy": "2024-05-11T00:56:34.016155Z",
     "iopub.status.idle": "2024-05-11T00:56:34.149718Z",
     "shell.execute_reply": "2024-05-11T00:56:34.148709Z",
     "shell.execute_reply.started": "2024-05-11T00:56:34.016390Z"
    }
   },
   "outputs": [
    {
     "name": "stdout",
     "output_type": "stream",
     "text": [
      "\u001b[1m1/1\u001b[0m \u001b[32m━━━━━━━━━━━━━━━━━━━━\u001b[0m\u001b[37m\u001b[0m \u001b[1m0s\u001b[0m 80ms/step\n",
      "Word           \t Pred\n",
      "\n",
      "------------------------------\n",
      "برلين          \tX\n",
      "ترفض           \tVERB\n",
      "حصول           \tNOUN\n",
      "شركه           \tNOUN\n",
      "اميركيه        \tADJ\n",
      "علي            \tADP\n",
      "رخصه           \tNOUN\n",
      "تصنيع          \tNOUN\n",
      "دبابه          \tNOUN\n",
      "\"              \tPUNCT\n",
      "ليوبارد        \tX\n",
      "\"              \tPUNCT\n",
      "الالمانيه      \tADJ\n"
     ]
    }
   ],
   "source": [
    "text ='برلين ترفض حصول شركة اميركية على رخصة تصنيع دبابة \" ليوبارد \" الالمانية'\n",
    "predict(text)"
   ]
  }
 ],
 "metadata": {
  "colab": {
   "provenance": []
  },
  "kaggle": {
   "accelerator": "gpu",
   "dataSources": [
    {
     "datasetId": 4962605,
     "sourceId": 8352436,
     "sourceType": "datasetVersion"
    }
   ],
   "dockerImageVersionId": 30698,
   "isGpuEnabled": true,
   "isInternetEnabled": true,
   "language": "python",
   "sourceType": "notebook"
  },
  "kernelspec": {
   "display_name": "Python 3 (ipykernel)",
   "language": "python",
   "name": "python3"
  },
  "language_info": {
   "codemirror_mode": {
    "name": "ipython",
    "version": 3
   },
   "file_extension": ".py",
   "mimetype": "text/x-python",
   "name": "python",
   "nbconvert_exporter": "python",
   "pygments_lexer": "ipython3",
   "version": "3.12.7"
  }
 },
 "nbformat": 4,
 "nbformat_minor": 4
}
